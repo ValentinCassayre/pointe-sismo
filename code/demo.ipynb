{
 "cells": [
  {
   "cell_type": "markdown",
   "metadata": {},
   "source": [
    "# Pointage automatique du temps d'arrivé des ondes P et S"
   ]
  },
  {
   "cell_type": "code",
   "execution_count": 74,
   "metadata": {},
   "outputs": [],
   "source": [
    "import numpy as np"
   ]
  },
  {
   "cell_type": "code",
   "execution_count": 75,
   "metadata": {},
   "outputs": [],
   "source": [
    "import matplotlib\n",
    "\n",
    "matplotlib.use('pgf') # figures latex\n",
    "\n",
    "import matplotlib.pyplot as plt\n",
    "\n",
    "plt.style.use(\"bmh\")\n",
    "\n",
    "matplotlib.rcParams.update({\n",
    "    \"font.family\": \"serif\",\n",
    "    \"text.usetex\": True,\n",
    "    \"pgf.rcfonts\": False\n",
    "    })"
   ]
  },
  {
   "cell_type": "code",
   "execution_count": 76,
   "metadata": {},
   "outputs": [],
   "source": [
    "import obspy.signal\n",
    "from obspy import read, read_inventory, UTCDateTime\n",
    "from obspy.clients.fdsn import Client"
   ]
  },
  {
   "cell_type": "code",
   "execution_count": 77,
   "metadata": {},
   "outputs": [],
   "source": [
    "from p_s_onset_determination import *"
   ]
  },
  {
   "cell_type": "markdown",
   "metadata": {},
   "source": [
    "## Charger les données"
   ]
  },
  {
   "cell_type": "code",
   "execution_count": 78,
   "metadata": {},
   "outputs": [],
   "source": [
    "# # Téléchargement\n",
    "# Séisme induit de Strasbourg\n",
    "starttime = UTCDateTime(2021, 6, 26, 3, 0, 0)\n",
    "duration = 3*60  # secondes\n",
    "station = \"ILLF\" # station d'Illkirch\n",
    "# client = Client(\"RESIF\")  # Réseau français\n",
    "# S = client.get_waveforms(network=\"FR\", station=\"ILLF\", location=\"00\", channel=\"HH*\", starttime=starttime, endtime=starttime+duration)\n",
    "# inventory = client.get_stations(network=\"FR\", station=station, channel=\"HH*\", starttime=starttime, level=\"response\")"
   ]
  },
  {
   "cell_type": "code",
   "execution_count": 79,
   "metadata": {},
   "outputs": [],
   "source": [
    "# Chargement d'un fichier local\n",
    "S = read(f\"data/{station}.miniseed\")\n",
    "inventory = read_inventory(f\"data/{station}.xml\")"
   ]
  },
  {
   "cell_type": "markdown",
   "metadata": {},
   "source": [
    "## Traitement des données"
   ]
  },
  {
   "cell_type": "code",
   "execution_count": 80,
   "metadata": {},
   "outputs": [],
   "source": [
    "pre_process_data(S, inventory)"
   ]
  },
  {
   "cell_type": "code",
   "execution_count": 81,
   "metadata": {},
   "outputs": [],
   "source": [
    "# Sélection de la trace d'intérêt\n",
    "T = S.select(channel=\"HH2\")[0]\n",
    "times = T.times(type='relative')\n",
    "data = T.data\n",
    "n = len(data)\n",
    "#dt = times[1]-times[0]\n",
    "dt = T.stats.sampling_rate"
   ]
  },
  {
   "cell_type": "code",
   "execution_count": 82,
   "metadata": {},
   "outputs": [
    {
     "data": {
      "text/plain": [
       "(0.0, 180.0)"
      ]
     },
     "execution_count": 82,
     "metadata": {},
     "output_type": "execute_result"
    }
   ],
   "source": [
    "t1, t2 = 0, 180\n",
    "plt.plot(times, data, color='grey', linewidth=1.5)\n",
    "plt.xlabel('Temps [s]')\n",
    "plt.ylabel('Vitesse de déplacement [m/s]')\n",
    "plt.xlim([t1, t2])"
   ]
  },
  {
   "cell_type": "markdown",
   "metadata": {},
   "source": [
    "## Conversion du signal en enveloppe"
   ]
  },
  {
   "cell_type": "markdown",
   "metadata": {},
   "source": [
    "### Valeur absolue du signal"
   ]
  },
  {
   "cell_type": "code",
   "execution_count": 83,
   "metadata": {},
   "outputs": [],
   "source": [
    "abs_data = np.abs(data)"
   ]
  },
  {
   "cell_type": "code",
   "execution_count": 84,
   "metadata": {},
   "outputs": [
    {
     "data": {
      "text/plain": [
       "(0.0, 180.0)"
      ]
     },
     "execution_count": 84,
     "metadata": {},
     "output_type": "execute_result"
    }
   ],
   "source": [
    "t1, t2 = 0, 180\n",
    "plt.plot(times, abs_data, color='red', linewidth=1, label=\"Valeur absolue\")\n",
    "plt.plot(times, data, color='grey', linewidth=1, label=\"Signal\", alpha=.5)\n",
    "plt.legend()\n",
    "plt.xlabel('Temps [s]')\n",
    "plt.ylabel('Amplitude [m/s]')\n",
    "plt.xlim([t1, t2])"
   ]
  },
  {
   "cell_type": "markdown",
   "metadata": {},
   "source": [
    "### Carré du signal"
   ]
  },
  {
   "cell_type": "code",
   "execution_count": 85,
   "metadata": {},
   "outputs": [],
   "source": [
    "sqa_data = data**2"
   ]
  },
  {
   "cell_type": "code",
   "execution_count": 86,
   "metadata": {},
   "outputs": [],
   "source": [
    "fig, axs = plt.subplots(2, sharex=True)\n",
    "ax1, ax2 = axs\n",
    "\n",
    "t1, t2 = times[0], times[-1]\n",
    "\n",
    "color = 'tab:grey'\n",
    "ax1.set_ylabel('Amplitude [m/s]', color=color)\n",
    "ax1.plot(times, data, color=color, linewidth=1, label=\"Signal\")\n",
    "ax1.set_xlim([t1, t2])\n",
    "ax1.tick_params(axis='y', labelcolor=color)\n",
    "\n",
    "color = 'tab:red'\n",
    "ax2.set_ylabel('Amplitude [m/s]$^2$', color=color)\n",
    "ax2.plot(times, sqa_data, color=color, linewidth=1, label=\"Carré\")\n",
    "ax2.set_xlim([t1, t2])\n",
    "ax2.tick_params(axis='y', labelcolor=color)\n",
    "ax2.set_xlabel('Temps [s]')\n",
    "\n",
    "fig.tight_layout()"
   ]
  },
  {
   "cell_type": "markdown",
   "metadata": {},
   "source": [
    "### Dérivée temporelle"
   ]
  },
  {
   "cell_type": "code",
   "execution_count": 87,
   "metadata": {},
   "outputs": [],
   "source": [
    "der_data = [0]\n",
    "for k in range(n-1):\n",
    "    dy = (data[k+1] - data[k])\n",
    "    der_data.append(dy/dt)"
   ]
  },
  {
   "cell_type": "markdown",
   "metadata": {},
   "source": [
    "### Envelope de Stewart"
   ]
  },
  {
   "cell_type": "code",
   "execution_count": 88,
   "metadata": {},
   "outputs": [],
   "source": [
    "fc_stewart = mdx_stewart(times, data, 10)"
   ]
  },
  {
   "cell_type": "code",
   "execution_count": 89,
   "metadata": {},
   "outputs": [],
   "source": [
    "fig, axs = plt.subplots(2, sharex=True, figsize=(6, 3))\n",
    "ax1, ax2 = axs\n",
    "\n",
    "t1, t2 = times[0], times[-1]\n",
    "t1, t2 = 40, 100\n",
    "\n",
    "color = 'tab:grey'\n",
    "ax1.set_ylabel('Signal')\n",
    "ax1.plot(times, data, color=color, linewidth=1.5)\n",
    "ax1.set_xlim([t1, t2])\n",
    "ax1.tick_params(axis='y')\n",
    "\n",
    "ax2.set_ylabel('Enveloppe')\n",
    "ax2.plot(times, np.abs(fc_stewart), color='tab:blue', linewidth=1.5)\n",
    "ax2.set_xlim([t1, t2])\n",
    "ax2.set_xlabel('Temps [s]')\n",
    "\n",
    "fig.tight_layout()\n",
    "plt.savefig('images/envelope_stewart.pgf', format='pgf')"
   ]
  },
  {
   "cell_type": "markdown",
   "metadata": {},
   "source": [
    "### Enveloppe supérieure du signal"
   ]
  },
  {
   "cell_type": "markdown",
   "metadata": {},
   "source": [
    "#### Approximation par méthode géométrique"
   ]
  },
  {
   "cell_type": "code",
   "execution_count": 90,
   "metadata": {},
   "outputs": [],
   "source": [
    "#env_times, env_data = envelope_approx(times, data)\n",
    "env_times, env_data = envelope_approx_np(times, data)"
   ]
  },
  {
   "cell_type": "code",
   "execution_count": 91,
   "metadata": {},
   "outputs": [
    {
     "data": {
      "text/plain": [
       "<matplotlib.legend.Legend at 0x7fb2434abee0>"
      ]
     },
     "execution_count": 91,
     "metadata": {},
     "output_type": "execute_result"
    }
   ],
   "source": [
    "t1, t2 = 43, 65\n",
    "plt.plot(times, data, color='grey', linewidth=1.5, label='Signal')\n",
    "plt.plot(env_times, env_data, color='red', linewidth=2, linestyle='solid', label='Enveloppe sup. (approx.)')\n",
    "plt.xlabel('Temps [s]')\n",
    "plt.ylabel('Amplitude [m/s]')\n",
    "plt.xlim([t1, t2])\n",
    "plt.legend()"
   ]
  },
  {
   "cell_type": "markdown",
   "metadata": {},
   "source": [
    "#### Calcul exact"
   ]
  },
  {
   "cell_type": "code",
   "execution_count": 92,
   "metadata": {},
   "outputs": [],
   "source": [
    "env_data2 = obspy.signal.filter.envelope(data)"
   ]
  },
  {
   "cell_type": "code",
   "execution_count": 93,
   "metadata": {},
   "outputs": [],
   "source": [
    "t1, t2 = 44, 53\n",
    "plt.figure(figsize=(6,3))\n",
    "plt.plot(times, data, color='grey', linewidth=1.5, label='Signal')\n",
    "plt.plot(times, abs_data, label='Valeur absolue', color='black', linewidth=1, linestyle='dotted')\n",
    "plt.plot(env_times, env_data, color='red', linewidth=2.5, alpha=1, linestyle='solid', label='Enveloppe sup. (approx.)')\n",
    "plt.plot(times, env_data2, color='green', linewidth=2.5, alpha=0.7, linestyle='solid', label='Enveloppe sup.')\n",
    "plt.xlabel('Temps [s]')\n",
    "plt.ylabel('Amplitude [m/s]')\n",
    "plt.xlim([t1, t2])\n",
    "plt.ylim([-1e-5, 2e-5])\n",
    "plt.legend()\n",
    "plt.savefig('images/envelope_hilbert-geom.pgf', format='pgf')\n"
   ]
  },
  {
   "cell_type": "markdown",
   "metadata": {},
   "source": [
    "### Enveloppe de Allen"
   ]
  },
  {
   "cell_type": "code",
   "execution_count": 94,
   "metadata": {},
   "outputs": [],
   "source": [
    "#allen_data = allen_envelope(data)\n",
    "allen_data = allen_envelope_np(data)"
   ]
  },
  {
   "cell_type": "code",
   "execution_count": 95,
   "metadata": {},
   "outputs": [],
   "source": [
    "#baer_data = baer_envelope(times, data)\n",
    "baer_data = baer_envelope_np(times, data)"
   ]
  },
  {
   "cell_type": "code",
   "execution_count": 96,
   "metadata": {},
   "outputs": [],
   "source": [
    "t1, t2 = 45, 46.5\n",
    "l = 1.5\n",
    "fig = plt.figure(figsize=(6, 4))\n",
    "ax = plt.subplot(111)\n",
    "plt.plot(times, data, label='Signal', linewidth=5, color='grey')\n",
    "plt.plot(times, abs_data, label='Valeur absolue', color='black', linewidth=l, linestyle='dotted')\n",
    "#plt.plot(env_times, env_data, label='Enveloppe sup. (approx.)', linewidth=2.5)\n",
    "plt.plot(times, np.sqrt(allen_data), label='Enveloppe de Allen', color='tab:red', linewidth=2.5)\n",
    "plt.plot(times, np.sqrt(baer_data), label='Enveloppe de Baer', color='tab:green', linewidth=2.5)\n",
    "plt.plot(times, env_data2, label='Enveloppe supérieure', color='tab:blue', linewidth=2.5, alpha=1)\n",
    "\n",
    "plt.xlabel('Temps [s]')\n",
    "plt.ylabel('Amplitude [m/s]')\n",
    "plt.xlim([t1, t2])\n",
    "plt.ylim([-.2e-5, 1.0e-5])\n",
    "box = ax.get_position()\n",
    "ax.set_position([box.x0, box.y0, box.width * 0.8, box.height])\n",
    "plt.legend(loc='center left', bbox_to_anchor=(1, 0.5))\n",
    "plt.savefig('images/envelope_allen-baer.pgf', format='pgf')"
   ]
  },
  {
   "cell_type": "code",
   "execution_count": 97,
   "metadata": {},
   "outputs": [],
   "source": [
    "t1, t2 = 46, 47\n",
    "l = 1.5\n",
    "plt.figure(figsize=(6,3))\n",
    "ax = plt.subplot(111)\n",
    "plt.plot(times, data, label='Signal', linewidth=5, color='grey')\n",
    "plt.plot(times, abs_data, label='Valeur absolue', color='black', linewidth=l, linestyle='dotted')\n",
    "plt.plot(times, env_data2, label='Enveloppe sup.', linewidth=2.5)\n",
    "plt.plot(env_times, env_data, label='Enveloppe sup. (approx.)', linewidth=2.5)\n",
    "plt.plot(times, np.sqrt(allen_data), label='Enveloppe de Allen',linewidth=2.5)\n",
    "plt.plot(times, np.sqrt(baer_data), label='Enveloppe de Baer', linewidth=2.5)\n",
    "\n",
    "plt.xlabel('Temps [s]')\n",
    "plt.ylabel('Amplitude [m/s]')\n",
    "plt.xlim([t1, t2])\n",
    "plt.ylim([-.2e-5, 1.0e-5])\n",
    "box = ax.get_position()\n",
    "ax.set_position([box.x0, box.y0, box.width * 0.8, box.height])\n",
    "plt.legend(loc='center left', bbox_to_anchor=(1, 0.5), fontsize=6)\n",
    "plt.savefig('images/envelope_allen-baer.pgf', format='pgf')"
   ]
  },
  {
   "cell_type": "markdown",
   "metadata": {},
   "source": [
    "## Détection par analyse de l'énergie\n",
    "\n",
    "### Calcul de la fonction caractéristique\n",
    "\n",
    "#### Méthode STA/LTA"
   ]
  },
  {
   "cell_type": "code",
   "execution_count": 98,
   "metadata": {},
   "outputs": [],
   "source": [
    "# Paramètrage de la taille de la fenêtre\n",
    "tlta = 20\n",
    "tsta = 1\n",
    "\n",
    "nsta, nlta = nstalta_from_times(times, tsta, tlta)"
   ]
  },
  {
   "cell_type": "code",
   "execution_count": 99,
   "metadata": {},
   "outputs": [],
   "source": [
    "#fc_allen = stalta_allen(sqa_data, nsta, nlta)\n",
    "fc_allen = stalta_allen_np(sqa_data, nsta, nlta)"
   ]
  },
  {
   "cell_type": "markdown",
   "metadata": {},
   "source": [
    "#### Fonction caractéristique récursive d'Allen"
   ]
  },
  {
   "cell_type": "code",
   "execution_count": 100,
   "metadata": {},
   "outputs": [],
   "source": [
    "fc_allen_recursiv = stalta_recursiv(sqa_data, nsta, nlta)"
   ]
  },
  {
   "cell_type": "code",
   "execution_count": 101,
   "metadata": {},
   "outputs": [
    {
     "name": "stderr",
     "output_type": "stream",
     "text": [
      "/tmp/ipykernel_101091/473557719.py:1: RuntimeWarning: More than 20 figures have been opened. Figures created through the pyplot interface (`matplotlib.pyplot.figure`) are retained until explicitly closed and may consume too much memory. (To control this warning, see the rcParam `figure.max_open_warning`).\n",
      "  fig, axs = plt.subplots(2, figsize=(6,3))\n"
     ]
    }
   ],
   "source": [
    "fig, axs = plt.subplots(2, figsize=(6,3))\n",
    "ax1, ax2 = axs\n",
    "\n",
    "t1, t2 = times[0], times[-1]\n",
    "t1, t2 = 0, 100\n",
    "\n",
    "color = 'tab:grey'\n",
    "ax1.set_ylabel('Signal')\n",
    "ax1.plot(times, data, color=color, linewidth=1.5)\n",
    "ax1.set_xlim([t1, t2])\n",
    "ax1.tick_params(axis='y')\n",
    "\n",
    "ax2.set_ylabel('STA/LTA')\n",
    "ax2.plot(times, fc_allen, color='tab:green', linewidth=1.5, label='Classique')\n",
    "ax2.plot(times, fc_allen_recursiv, color='tab:blue', linewidth=1.5, label='Récursif')\n",
    "ax2.set_xlim([t1, t2])\n",
    "ax2.set_xlabel('Temps [s]')\n",
    "\n",
    "plt.legend()\n",
    "fig.tight_layout()\n",
    "plt.savefig('images/stalta_classic-recursiv.pgf', format='pgf')"
   ]
  },
  {
   "cell_type": "markdown",
   "metadata": {},
   "source": [
    "#### Variantes de Swindell et Snell et de Baer et Kradolfer"
   ]
  },
  {
   "cell_type": "code",
   "execution_count": 102,
   "metadata": {},
   "outputs": [],
   "source": [
    "z = z_swindell_snell(sqa_data, nsta)"
   ]
  },
  {
   "cell_type": "code",
   "execution_count": 103,
   "metadata": {},
   "outputs": [],
   "source": [
    "fc_baer = z_baer_kradolfer(baer_data, nsta)"
   ]
  },
  {
   "cell_type": "code",
   "execution_count": 104,
   "metadata": {},
   "outputs": [],
   "source": [
    "fig, axs = plt.subplots(3, figsize=(6, 4), sharex=True)\n",
    "ax1, ax2, ax3 = axs\n",
    "\n",
    "t1, t2 = times[0], times[-1]\n",
    "#t1, t2 = 40, 100\n",
    "\n",
    "color = 'tab:grey'\n",
    "ax1.set_ylabel('Signal')\n",
    "ax1.plot(times, data, color=color, linewidth=1.5)\n",
    "ax1.set_xlim([t1, t2])\n",
    "ax1.tick_params(axis='y')\n",
    "\n",
    "ax2.set_ylabel('Z-detect')\n",
    "ax2.plot(times, z, color='tab:blue', linewidth=1.5)\n",
    "#ax2.plot(times, z>0, color='tab:red', linewidth=1.5)\n",
    "ax2.set_xlim([t1, t2])\n",
    "\n",
    "ax3.set_ylabel('FC Baer')\n",
    "ax3.plot(times, fc_baer, color='tab:blue', linewidth=1.5)\n",
    "ax3.set_xlim([t1, t2])\n",
    "\n",
    "ax3.set_xlabel('Temps [s]')\n",
    "\n",
    "fig.tight_layout()\n",
    "plt.savefig('images/fc-z.pgf', format='pgf')"
   ]
  },
  {
   "cell_type": "markdown",
   "metadata": {},
   "source": [
    "### Pointage"
   ]
  },
  {
   "cell_type": "markdown",
   "metadata": {},
   "source": [
    "#### Strasbourg"
   ]
  },
  {
   "cell_type": "code",
   "execution_count": 105,
   "metadata": {},
   "outputs": [],
   "source": [
    "# # Téléchargement\n",
    "# Séisme induit de Strasbourg\n",
    "starttime = UTCDateTime(2021, 6, 26, 2, 58, 0)\n",
    "duration = 5*60  # secondes\n",
    "station = \"ILLF\" # station d'Illkirch\n",
    "client = Client(\"RESIF\")  # Réseau français\n",
    "S = client.get_waveforms(network=\"FR\", station=\"ILLF\", location=\"00\", channel=\"HH*\", starttime=starttime, endtime=starttime+duration)\n",
    "inventory = client.get_stations(network=\"FR\", station=station, channel=\"HH*\", starttime=starttime, level=\"response\")\n",
    "pre_process_data(S, inventory)"
   ]
  },
  {
   "cell_type": "code",
   "execution_count": 106,
   "metadata": {},
   "outputs": [],
   "source": [
    "T = S.select(channel=\"HHZ\")[0]\n",
    "times = T.times(type='relative')\n",
    "data = T.data\n",
    "\n",
    "# Paramètrage de la taille de la fenêtre\n",
    "tlta = 20\n",
    "tsta = 1\n",
    "\n",
    "sqa_data = data**2\n",
    "fc_stewart = mdx_stewart(times, data, 10)\n",
    "allen_data = allen_envelope_np(data)\n",
    "baer_data = baer_envelope_np(times, data)\n",
    "\n",
    "nsta, nlta = nstalta_from_times(times, tsta, tlta)\n",
    "\n",
    "fc_allen = stalta_allen_np(allen_data, nsta, nlta)\n",
    "fc_allen_recursiv = stalta_recursiv(allen_data, nsta, nlta)\n",
    "z = z_swindell_snell(sqa_data, nsta)\n",
    "fc_baer = z_baer_kradolfer(baer_data, nsta)"
   ]
  },
  {
   "cell_type": "code",
   "execution_count": 107,
   "metadata": {},
   "outputs": [
    {
     "name": "stdout",
     "output_type": "stream",
     "text": [
      "Pointage avec STA/LTA\n",
      "tP=2021-06-26T03:00:44.370000Z\n",
      "tS=2021-06-26T03:01:00.370000Z\n",
      "Pointage avec Récursif\n",
      "tP=2021-06-26T03:00:44.365000Z\n",
      "tS=2021-06-26T03:01:00.335000Z\n",
      "Pointage avec Baer\n",
      "tP=2021-06-26T03:00:44.320000Z\n"
     ]
    }
   ],
   "source": [
    "fig, axs = plt.subplots(5, figsize=(6,6), sharex=True)\n",
    "ax1 = axs[0]\n",
    "ax2 = axs[1]\n",
    "\n",
    "t1, t2 = times[0], times[-1]\n",
    "#t1, t2 = 30, 100\n",
    "t1 = 50 # retirer le moment ou ST/LTA est nul\n",
    "\n",
    "color = 'tab:grey'\n",
    "ax1.set_ylabel('Signal')\n",
    "ax1.plot(times, data, color=color, linewidth=1.5)\n",
    "ax1.set_xlim([t1, t2])\n",
    "ax1.tick_params(axis='y')\n",
    "\n",
    "threshold = 5\n",
    "potentials = potential_waves(times, z, threshold, tol=1, delta=3)\n",
    "earthquake = any(potentials)\n",
    "\n",
    "ax2.set_ylabel('Z-detect')\n",
    "ax2.plot(times, z, color='tab:blue', linewidth=1.5)\n",
    "ax2.hlines(y=threshold, xmin=t1, xmax=t2, linewidth=2, color='tab:green', ls='--', label=f'Seuil = {threshold}')\n",
    "ax2.plot(times, (z>threshold)*-1, color='tab:green', linewidth=2, label=f'Dépassement')\n",
    "if earthquake:\n",
    "    earthquake_loc = potential_waves(times, z, threshold, tol=10, delta=3, before=30, after=30)\n",
    "    ax2.plot(times, earthquake_loc*-2, color='tab:red', linewidth=3, label='Secousse')\n",
    "else:\n",
    "    ax2.legend(\"Absence de séisme\", loc=1)\n",
    "ax2.set_xlim([t1, t2])\n",
    "ax2.legend(loc=1)\n",
    "\n",
    "labels = ['STA/LTA', 'Récursif', 'Baer']\n",
    "datasets = [fc_allen, fc_allen_recursiv, fc_baer]\n",
    "thresholds = [5, 5, 200]\n",
    "for k in range(len(labels)):\n",
    "    threshold = thresholds[k]\n",
    "    ax = axs[k+2]\n",
    "    ax.set_ylabel(labels[k])\n",
    "    ax.plot(times, datasets[k], color='tab:blue', linewidth=1.5)\n",
    "    ax.set_xlim([t1, t2])\n",
    "    ax.hlines(y=threshold, xmin=t1, xmax=t2, linewidth=2, color='tab:green', ls='--', label=f'Seuil = {threshold}')\n",
    "    if earthquake:\n",
    "        c = (max(datasets[k]) - min(datasets[k]))*.2\n",
    "        potentials = potential_waves(times, datasets[k], threshold, tol=1)\n",
    "        picks = point_potentials(datasets[k], potentials)\n",
    "        picks = possible_picks(picks, earthquake_loc)\n",
    "        print(f'Pointage avec {labels[k]}')\n",
    "        if picks:\n",
    "            ax.vlines(x=times[picks[0]], ymin=min(datasets[k])-c, ymax=max(datasets[k])+c, linewidth=2, color='tab:red', ls=':', label=f'$t_1$ = {times[picks[0]]:.2f} s')\n",
    "            print(f'tP={(starttime + times[picks[0]])}')\n",
    "        if len(picks) > 1:\n",
    "            ax.vlines(x=times[picks[1]], ymin=min(datasets[k])-c, ymax=max(datasets[k])+c, linewidth=2, color='tab:orange', ls=':', label=f'$t_2$ = {times[picks[1]]:.2f} s')\n",
    "            print(f'tS={(starttime + times[picks[1]])}')\n",
    "    ax.legend(loc=1)\n",
    "\n",
    "ax.set_xlabel('Temps [s]')\n",
    "fig.tight_layout()\n",
    "plt.savefig('images/pointage-strasbourg.pgf', format='pgf')"
   ]
  },
  {
   "cell_type": "markdown",
   "metadata": {},
   "source": [
    "#### Turquie"
   ]
  },
  {
   "cell_type": "code",
   "execution_count": 108,
   "metadata": {},
   "outputs": [],
   "source": [
    "# # Téléchargement\n",
    "# Séisme turquie\n",
    "starttime = UTCDateTime(2023, 2, 6, 1, 22, 0)\n",
    "duration = 5*60  # secondes\n",
    "station = \"ILLF\" # station d'Illkirch\n",
    "client = Client(\"RESIF\")  # Réseau français\n",
    "S = client.get_waveforms(network=\"FR\", station=\"ILLF\", location=\"00\", channel=\"HH*\", starttime=starttime, endtime=starttime+duration)\n",
    "inventory = client.get_stations(network=\"FR\", station=station, channel=\"HH*\", starttime=starttime, level=\"response\")\n",
    "pre_process_data(S, inventory)"
   ]
  },
  {
   "cell_type": "code",
   "execution_count": 109,
   "metadata": {},
   "outputs": [],
   "source": [
    "T = S.select(channel=\"HHZ\")[0]\n",
    "times = T.times(type='relative')\n",
    "data = T.data\n",
    "\n",
    "# Paramètrage de la taille de la fenêtre\n",
    "tlta = 20\n",
    "tsta = 1\n",
    "\n",
    "sqa_data = data**2\n",
    "fc_stewart = mdx_stewart(times, data, 10)\n",
    "allen_data = allen_envelope_np(data)\n",
    "baer_data = baer_envelope_np(times, data)\n",
    "\n",
    "nsta, nlta = nstalta_from_times(times, tsta, tlta)\n",
    "\n",
    "fc_allen = stalta_allen_np(allen_data, nsta, nlta)\n",
    "fc_allen_recursiv = stalta_recursiv(allen_data, nsta, nlta)\n",
    "z = z_swindell_snell(sqa_data, nsta)\n",
    "fc_baer = z_baer_kradolfer(baer_data, nsta)"
   ]
  },
  {
   "cell_type": "code",
   "execution_count": 110,
   "metadata": {},
   "outputs": [
    {
     "name": "stdout",
     "output_type": "stream",
     "text": [
      "Pointage avec STA/LTA\n",
      "tP=2023-02-06T01:22:54.495000Z\n",
      "tS=2023-02-06T01:24:44.065000Z\n",
      "Pointage avec Récursif\n",
      "tP=2023-02-06T01:22:56.485000Z\n",
      "tS=2023-02-06T01:24:44.285000Z\n",
      "Pointage avec Baer\n"
     ]
    }
   ],
   "source": [
    "fig, axs = plt.subplots(5, figsize=(6,6), sharex=True)\n",
    "ax1 = axs[0]\n",
    "ax2 = axs[1]\n",
    "\n",
    "t1, t2 = times[0], times[-1]\n",
    "#t1, t2 = 30, 100\n",
    "\n",
    "color = 'tab:grey'\n",
    "ax1.set_ylabel('Signal')\n",
    "ax1.plot(times, data, color=color, linewidth=1.5)\n",
    "ax1.set_xlim([t1, t2])\n",
    "ax1.tick_params(axis='y')\n",
    "\n",
    "threshold = 5\n",
    "potentials = potential_waves(times, z, threshold, tol=1, delta=3)\n",
    "earthquake = any(potentials)\n",
    "\n",
    "ax2.set_ylabel('Z-detect')\n",
    "ax2.plot(times, z, color='tab:blue', linewidth=1.5)\n",
    "ax2.hlines(y=threshold, xmin=t1, xmax=t2, linewidth=2, color='tab:green', ls='--', label=f'Seuil = {threshold}')\n",
    "ax2.plot(times, (z>threshold)*-1, color='tab:green', linewidth=2, label=f'Dépassement')\n",
    "if earthquake:\n",
    "    earthquake_loc = potential_waves(times, z, 2, tol=10, delta=3, before=40, after=40)\n",
    "    ax2.plot(times, earthquake_loc*-2, color='tab:red', linewidth=3, label='Secousse')\n",
    "else:\n",
    "    ax2.legend(\"Absence de séisme\", loc=1)\n",
    "ax2.set_xlim([t1, t2])\n",
    "ax2.legend(loc=1)\n",
    "\n",
    "labels = ['STA/LTA', 'Récursif', 'Baer']\n",
    "datasets = [fc_allen, fc_allen_recursiv, fc_baer]\n",
    "thresholds = [5, 5, 200]\n",
    "for k in range(len(labels)):\n",
    "    threshold = thresholds[k]\n",
    "    ax = axs[k+2]\n",
    "    ax.set_ylabel(labels[k])\n",
    "    ax.plot(times, datasets[k], color='tab:blue', linewidth=1.5)\n",
    "    ax.set_xlim([t1, t2])\n",
    "    ax.hlines(y=threshold, xmin=t1, xmax=t2, linewidth=2, color='tab:green', ls='--', label=f'Seuil = {threshold}')\n",
    "    if earthquake:\n",
    "        c = (max(datasets[k]) - min(datasets[k]))*.2\n",
    "        potentials = potential_waves(times, datasets[k], threshold, tol=3)\n",
    "        picks = point_potentials(datasets[k], potentials)\n",
    "        picks = possible_picks(picks, earthquake_loc)\n",
    "        print(f'Pointage avec {labels[k]}')\n",
    "        if picks:\n",
    "            ax.vlines(x=times[picks[0]], ymin=min(datasets[k])-c, ymax=max(datasets[k])+c, linewidth=2, color='tab:red', ls=':', label=f'$t_1$ = {times[picks[0]]:.2f} s')\n",
    "            print(f'tP={(starttime + times[picks[0]])}')\n",
    "        if len(picks) > 1:\n",
    "            ax.vlines(x=times[picks[1]], ymin=min(datasets[k])-c, ymax=max(datasets[k])+c, linewidth=2, color='tab:orange', ls=':', label=f'$t_2$ = {times[picks[1]]:.2f} s')\n",
    "            print(f'tS={(starttime + times[picks[1]])}')\n",
    "    ax.legend(loc=1)\n",
    "\n",
    "ax.set_xlabel('Temps [s]')\n",
    "fig.tight_layout()\n",
    "plt.savefig('images/pointage-turquie.pgf', format='pgf')"
   ]
  }
 ],
 "metadata": {
  "kernelspec": {
   "display_name": "Python 3.10.8 64-bit",
   "language": "python",
   "name": "python3"
  },
  "language_info": {
   "codemirror_mode": {
    "name": "ipython",
    "version": 3
   },
   "file_extension": ".py",
   "mimetype": "text/x-python",
   "name": "python",
   "nbconvert_exporter": "python",
   "pygments_lexer": "ipython3",
   "version": "3.10.8"
  },
  "orig_nbformat": 4,
  "vscode": {
   "interpreter": {
    "hash": "e7370f93d1d0cde622a1f8e1c04877d8463912d04d973331ad4851f04de6915a"
   }
  }
 },
 "nbformat": 4,
 "nbformat_minor": 2
}
